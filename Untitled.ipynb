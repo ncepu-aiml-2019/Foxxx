{
 "cells": [
  {
   "cell_type": "code",
   "execution_count": 2,
   "metadata": {},
   "outputs": [
    {
     "name": "stdout",
     "output_type": "stream",
     "text": [
      "100 25\n",
      "[2, 3, 5, 7, 11, 13, 17, 19, 23, 29, 31, 37, 41, 43, 47, 53, 59, 61, 67, 71, 73, 79, 83, 89, 97]\n"
     ]
    }
   ],
   "source": [
    "import math  \n",
    "lst = []\n",
    "count1 = 0\n",
    "count2 = 0\n",
    " \n",
    "for i in range(3,100,2):    \n",
    "    j = math.sqrt(i)    \n",
    "    j = math.ceil(j)    \n",
    "    for x in range(3,j+1,2):    \n",
    "        count1 += 1\n",
    "        if i % x == 0:\n",
    "            count2 += 1\n",
    "            break\n",
    "    else:\n",
    "        lst.append(i)        \n",
    "else:  \n",
    "    print(count1,count2)\n",
    "    print([2] + lst)"
   ]
  },
  {
   "cell_type": "code",
   "execution_count": null,
   "metadata": {},
   "outputs": [],
   "source": []
  }
 ],
 "metadata": {
  "kernelspec": {
   "display_name": "Python 3",
   "language": "python",
   "name": "python3"
  },
  "language_info": {
   "codemirror_mode": {
    "name": "ipython",
    "version": 3
   },
   "file_extension": ".py",
   "mimetype": "text/x-python",
   "name": "python",
   "nbconvert_exporter": "python",
   "pygments_lexer": "ipython3",
   "version": "3.7.4"
  }
 },
 "nbformat": 4,
 "nbformat_minor": 2
}
